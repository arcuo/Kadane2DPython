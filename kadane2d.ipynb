{
 "cells": [
  {
   "cell_type": "code",
   "execution_count": 1,
   "metadata": {
    "collapsed": false
   },
   "outputs": [],
   "source": [
    "# 1 dimensional sub array algorithm.\n",
    "def kadane1D(array1D):\n",
    "    maxsofar = 0\n",
    "    maxendinghere = 0\n",
    "    for i in range(len(array1D)):\n",
    "        maxendinghere = max(maxendinghere + array1D[i], 0)\n",
    "        if maxendinghere > maxsofar:\n",
    "            maxsofar = maxendinghere \n",
    "    return maxsofar\n",
    "    \n"
   ]
  },
  {
   "cell_type": "code",
   "execution_count": 2,
   "metadata": {
    "collapsed": false
   },
   "outputs": [],
   "source": [
    "# 2 dimensional sub array algorithm (implementing 1 dimensional function)\n",
    "def kadane2D(matrix):\n",
    "    rows = matrix.shape[0]\n",
    "    cols = matrix.shape[1]\n",
    "    maxsofar = 0\n",
    "    for L in range(rows):\n",
    "        for R in range(L+1, rows+1):\n",
    "            sub = [sum(x) for x in zip(*matrix[L:R, 0:cols])]\n",
    "            maxsofar = max(maxsofar, kadane1D(sub))\n",
    "    return maxsofar\n",
    "    "
   ]
  },
  {
   "cell_type": "code",
   "execution_count": 3,
   "metadata": {
    "collapsed": false
   },
   "outputs": [],
   "source": [
    "# make random 2 dimensional array with numpy.\n",
    "import numpy as np\n",
    "matr = np.floor(np.random.rand(4,3)*10)\n",
    "matr = np.floor(matr - np.mean(matr))"
   ]
  },
  {
   "cell_type": "code",
   "execution_count": 4,
   "metadata": {
    "collapsed": false
   },
   "outputs": [
    {
     "data": {
      "text/plain": [
       "8.0"
      ]
     },
     "execution_count": 4,
     "metadata": {},
     "output_type": "execute_result"
    }
   ],
   "source": [
    "kadane2D(matr)"
   ]
  }
 ],
 "metadata": {
  "kernelspec": {
   "display_name": "Python 2",
   "language": "python",
   "name": "python2"
  },
  "language_info": {
   "codemirror_mode": {
    "name": "ipython",
    "version": 2
   },
   "file_extension": ".py",
   "mimetype": "text/x-python",
   "name": "python",
   "nbconvert_exporter": "python",
   "pygments_lexer": "ipython2",
   "version": "2.7.13"
  }
 },
 "nbformat": 4,
 "nbformat_minor": 2
}
